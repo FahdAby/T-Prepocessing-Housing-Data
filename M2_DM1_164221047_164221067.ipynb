{
  "cells": [
    {
      "cell_type": "markdown",
      "metadata": {
        "id": "Bghlb5KPp6Ho"
      },
      "source": [
        "# **Data Mining: Preprocessing**\n",
        "### Dataset: Housing"
      ]
    },
    {
      "cell_type": "markdown",
      "metadata": {
        "id": "mhcGxsjlI2pr"
      },
      "source": [
        "Dataset ini berisi data tentang pinggiran kota dan kota di sekitar Boston pada tahun 1970, mencakup atribut seperti tingkat kejahatan, proporsi lahan residensial, konsentrasi polusi udara, jumlah ruangan per tempat tinggal, dan nilai median rumah. Atribut-atribut ini memberikan gambaran tentang berbagai aspek demografis, geografis, dan ekonomi dari setiap wilayah, dengan campuran unit yang berbeda untuk setiap atribut."
      ]
    },
    {
      "cell_type": "markdown",
      "metadata": {
        "id": "VNWNajAYp6Hz"
      },
      "source": [
        "## Subset Libraries"
      ]
    },
    {
      "cell_type": "code",
      "execution_count": 28,
      "metadata": {
        "id": "plrK0yd5p6H1"
      },
      "outputs": [],
      "source": [
        "import numpy as np\n",
        "import pandas as pd\n",
        "import matplotlib.pyplot as plt\n",
        "from scipy import stats"
      ]
    },
    {
      "cell_type": "markdown",
      "metadata": {
        "id": "iE-xqYb-p6H5"
      },
      "source": [
        "## Subset Dataset"
      ]
    },
    {
      "cell_type": "code",
      "execution_count": 69,
      "metadata": {
        "colab": {
          "base_uri": "https://localhost:8080/",
          "height": 424
        },
        "id": "2rVDJSmKp6H6",
        "outputId": "05577aae-73b2-460c-b6fb-bc9b8fc63b54"
      },
      "outputs": [
        {
          "data": {
            "text/html": [
              "<div>\n",
              "<style scoped>\n",
              "    .dataframe tbody tr th:only-of-type {\n",
              "        vertical-align: middle;\n",
              "    }\n",
              "\n",
              "    .dataframe tbody tr th {\n",
              "        vertical-align: top;\n",
              "    }\n",
              "\n",
              "    .dataframe thead th {\n",
              "        text-align: right;\n",
              "    }\n",
              "</style>\n",
              "<table border=\"1\" class=\"dataframe\">\n",
              "  <thead>\n",
              "    <tr style=\"text-align: right;\">\n",
              "      <th></th>\n",
              "      <th>CRIM</th>\n",
              "      <th>INDUS</th>\n",
              "      <th>NOX</th>\n",
              "      <th>RM</th>\n",
              "      <th>AGE</th>\n",
              "      <th>DIS</th>\n",
              "      <th>RAD</th>\n",
              "      <th>PTRATIO</th>\n",
              "      <th>B</th>\n",
              "      <th>MEDV</th>\n",
              "    </tr>\n",
              "  </thead>\n",
              "  <tbody>\n",
              "    <tr>\n",
              "      <th>0</th>\n",
              "      <td>0.00632</td>\n",
              "      <td>2.31</td>\n",
              "      <td>0.538</td>\n",
              "      <td>6.575</td>\n",
              "      <td>65.2</td>\n",
              "      <td>4.0900</td>\n",
              "      <td>1.0</td>\n",
              "      <td>15.3</td>\n",
              "      <td>396.90</td>\n",
              "      <td>24.0</td>\n",
              "    </tr>\n",
              "    <tr>\n",
              "      <th>1</th>\n",
              "      <td>0.02731</td>\n",
              "      <td>7.07</td>\n",
              "      <td>0.469</td>\n",
              "      <td>6.421</td>\n",
              "      <td>78.9</td>\n",
              "      <td>4.9671</td>\n",
              "      <td>2.0</td>\n",
              "      <td>17.8</td>\n",
              "      <td>396.90</td>\n",
              "      <td>21.6</td>\n",
              "    </tr>\n",
              "    <tr>\n",
              "      <th>2</th>\n",
              "      <td>0.02729</td>\n",
              "      <td>7.07</td>\n",
              "      <td>0.469</td>\n",
              "      <td>7.185</td>\n",
              "      <td>61.1</td>\n",
              "      <td>4.9671</td>\n",
              "      <td>2.0</td>\n",
              "      <td>17.8</td>\n",
              "      <td>392.83</td>\n",
              "      <td>34.7</td>\n",
              "    </tr>\n",
              "    <tr>\n",
              "      <th>3</th>\n",
              "      <td>0.03237</td>\n",
              "      <td>2.18</td>\n",
              "      <td>0.458</td>\n",
              "      <td>6.998</td>\n",
              "      <td>45.8</td>\n",
              "      <td>6.0622</td>\n",
              "      <td>3.0</td>\n",
              "      <td>18.7</td>\n",
              "      <td>394.63</td>\n",
              "      <td>33.4</td>\n",
              "    </tr>\n",
              "    <tr>\n",
              "      <th>4</th>\n",
              "      <td>0.06905</td>\n",
              "      <td>2.18</td>\n",
              "      <td>0.458</td>\n",
              "      <td>7.147</td>\n",
              "      <td>54.2</td>\n",
              "      <td>6.0622</td>\n",
              "      <td>3.0</td>\n",
              "      <td>18.7</td>\n",
              "      <td>396.90</td>\n",
              "      <td>36.2</td>\n",
              "    </tr>\n",
              "    <tr>\n",
              "      <th>...</th>\n",
              "      <td>...</td>\n",
              "      <td>...</td>\n",
              "      <td>...</td>\n",
              "      <td>...</td>\n",
              "      <td>...</td>\n",
              "      <td>...</td>\n",
              "      <td>...</td>\n",
              "      <td>...</td>\n",
              "      <td>...</td>\n",
              "      <td>...</td>\n",
              "    </tr>\n",
              "    <tr>\n",
              "      <th>504</th>\n",
              "      <td>0.06263</td>\n",
              "      <td>11.93</td>\n",
              "      <td>0.573</td>\n",
              "      <td>6.593</td>\n",
              "      <td>69.1</td>\n",
              "      <td>2.4786</td>\n",
              "      <td>1.0</td>\n",
              "      <td>21.0</td>\n",
              "      <td>391.99</td>\n",
              "      <td>22.4</td>\n",
              "    </tr>\n",
              "    <tr>\n",
              "      <th>505</th>\n",
              "      <td>0.04527</td>\n",
              "      <td>11.93</td>\n",
              "      <td>0.573</td>\n",
              "      <td>6.120</td>\n",
              "      <td>76.7</td>\n",
              "      <td>2.2875</td>\n",
              "      <td>1.0</td>\n",
              "      <td>21.0</td>\n",
              "      <td>396.90</td>\n",
              "      <td>20.6</td>\n",
              "    </tr>\n",
              "    <tr>\n",
              "      <th>506</th>\n",
              "      <td>0.06076</td>\n",
              "      <td>11.93</td>\n",
              "      <td>0.573</td>\n",
              "      <td>6.976</td>\n",
              "      <td>91.0</td>\n",
              "      <td>2.1675</td>\n",
              "      <td>1.0</td>\n",
              "      <td>21.0</td>\n",
              "      <td>396.90</td>\n",
              "      <td>23.9</td>\n",
              "    </tr>\n",
              "    <tr>\n",
              "      <th>507</th>\n",
              "      <td>0.10959</td>\n",
              "      <td>11.93</td>\n",
              "      <td>0.573</td>\n",
              "      <td>6.794</td>\n",
              "      <td>89.3</td>\n",
              "      <td>2.3889</td>\n",
              "      <td>1.0</td>\n",
              "      <td>21.0</td>\n",
              "      <td>393.45</td>\n",
              "      <td>22.0</td>\n",
              "    </tr>\n",
              "    <tr>\n",
              "      <th>508</th>\n",
              "      <td>0.04741</td>\n",
              "      <td>11.93</td>\n",
              "      <td>0.573</td>\n",
              "      <td>6.030</td>\n",
              "      <td>80.8</td>\n",
              "      <td>2.5050</td>\n",
              "      <td>1.0</td>\n",
              "      <td>21.0</td>\n",
              "      <td>396.90</td>\n",
              "      <td>11.9</td>\n",
              "    </tr>\n",
              "  </tbody>\n",
              "</table>\n",
              "<p>509 rows × 10 columns</p>\n",
              "</div>"
            ],
            "text/plain": [
              "        CRIM  INDUS    NOX     RM   AGE     DIS  RAD  PTRATIO       B  MEDV\n",
              "0    0.00632   2.31  0.538  6.575  65.2  4.0900  1.0     15.3  396.90  24.0\n",
              "1    0.02731   7.07  0.469  6.421  78.9  4.9671  2.0     17.8  396.90  21.6\n",
              "2    0.02729   7.07  0.469  7.185  61.1  4.9671  2.0     17.8  392.83  34.7\n",
              "3    0.03237   2.18  0.458  6.998  45.8  6.0622  3.0     18.7  394.63  33.4\n",
              "4    0.06905   2.18  0.458  7.147  54.2  6.0622  3.0     18.7  396.90  36.2\n",
              "..       ...    ...    ...    ...   ...     ...  ...      ...     ...   ...\n",
              "504  0.06263  11.93  0.573  6.593  69.1  2.4786  1.0     21.0  391.99  22.4\n",
              "505  0.04527  11.93  0.573  6.120  76.7  2.2875  1.0     21.0  396.90  20.6\n",
              "506  0.06076  11.93  0.573  6.976  91.0  2.1675  1.0     21.0  396.90  23.9\n",
              "507  0.10959  11.93  0.573  6.794  89.3  2.3889  1.0     21.0  393.45  22.0\n",
              "508  0.04741  11.93  0.573  6.030  80.8  2.5050  1.0     21.0  396.90  11.9\n",
              "\n",
              "[509 rows x 10 columns]"
            ]
          },
          "execution_count": 69,
          "metadata": {},
          "output_type": "execute_result"
        }
      ],
      "source": [
        "df = pd.read_csv(\"https://raw.githubusercontent.com/FahdAby/T-Prepocessing-Housing-Data/master/Housing.csv\")\n",
        "df"
      ]
    },
    {
      "cell_type": "code",
      "execution_count": 30,
      "metadata": {
        "colab": {
          "base_uri": "https://localhost:8080/"
        },
        "id": "HH7TGe0kMC7q",
        "outputId": "76f25245-9f8f-4cb5-95aa-46ee6857ddbd"
      },
      "outputs": [
        {
          "name": "stdout",
          "output_type": "stream",
          "text": [
            "<class 'pandas.core.frame.DataFrame'>\n",
            "RangeIndex: 509 entries, 0 to 508\n",
            "Data columns (total 10 columns):\n",
            " #   Column   Non-Null Count  Dtype  \n",
            "---  ------   --------------  -----  \n",
            " 0   CRIM     509 non-null    float64\n",
            " 1   INDUS    506 non-null    float64\n",
            " 2   NOX      507 non-null    float64\n",
            " 3   RM       509 non-null    float64\n",
            " 4   AGE      508 non-null    float64\n",
            " 5   DIS      509 non-null    float64\n",
            " 6   RAD      508 non-null    float64\n",
            " 7   PTRATIO  509 non-null    float64\n",
            " 8   B        509 non-null    float64\n",
            " 9   MEDV     509 non-null    float64\n",
            "dtypes: float64(10)\n",
            "memory usage: 39.9 KB\n"
          ]
        }
      ],
      "source": [
        "df.info()"
      ]
    },
    {
      "cell_type": "code",
      "execution_count": 31,
      "metadata": {
        "colab": {
          "base_uri": "https://localhost:8080/",
          "height": 300
        },
        "id": "KfVaUUnVMn5Y",
        "outputId": "7152c603-edea-4b6b-938b-237bbd95c03e"
      },
      "outputs": [
        {
          "data": {
            "text/html": [
              "<div>\n",
              "<style scoped>\n",
              "    .dataframe tbody tr th:only-of-type {\n",
              "        vertical-align: middle;\n",
              "    }\n",
              "\n",
              "    .dataframe tbody tr th {\n",
              "        vertical-align: top;\n",
              "    }\n",
              "\n",
              "    .dataframe thead th {\n",
              "        text-align: right;\n",
              "    }\n",
              "</style>\n",
              "<table border=\"1\" class=\"dataframe\">\n",
              "  <thead>\n",
              "    <tr style=\"text-align: right;\">\n",
              "      <th></th>\n",
              "      <th>CRIM</th>\n",
              "      <th>INDUS</th>\n",
              "      <th>NOX</th>\n",
              "      <th>RM</th>\n",
              "      <th>AGE</th>\n",
              "      <th>DIS</th>\n",
              "      <th>RAD</th>\n",
              "      <th>PTRATIO</th>\n",
              "      <th>B</th>\n",
              "      <th>MEDV</th>\n",
              "    </tr>\n",
              "  </thead>\n",
              "  <tbody>\n",
              "    <tr>\n",
              "      <th>count</th>\n",
              "      <td>509.000000</td>\n",
              "      <td>506.000000</td>\n",
              "      <td>507.000000</td>\n",
              "      <td>509.000000</td>\n",
              "      <td>508.000000</td>\n",
              "      <td>509.000000</td>\n",
              "      <td>508.000000</td>\n",
              "      <td>509.000000</td>\n",
              "      <td>509.000000</td>\n",
              "      <td>509.000000</td>\n",
              "    </tr>\n",
              "    <tr>\n",
              "      <th>mean</th>\n",
              "      <td>3.707516</td>\n",
              "      <td>11.198281</td>\n",
              "      <td>0.555216</td>\n",
              "      <td>6.279845</td>\n",
              "      <td>68.579134</td>\n",
              "      <td>3.787705</td>\n",
              "      <td>9.610236</td>\n",
              "      <td>18.463851</td>\n",
              "      <td>356.664892</td>\n",
              "      <td>22.501572</td>\n",
              "    </tr>\n",
              "    <tr>\n",
              "      <th>std</th>\n",
              "      <td>8.732089</td>\n",
              "      <td>6.856713</td>\n",
              "      <td>0.115633</td>\n",
              "      <td>0.703449</td>\n",
              "      <td>28.114744</td>\n",
              "      <td>2.101852</td>\n",
              "      <td>8.735069</td>\n",
              "      <td>2.161553</td>\n",
              "      <td>91.562469</td>\n",
              "      <td>9.183497</td>\n",
              "    </tr>\n",
              "    <tr>\n",
              "      <th>min</th>\n",
              "      <td>0.006320</td>\n",
              "      <td>0.460000</td>\n",
              "      <td>0.385000</td>\n",
              "      <td>3.561000</td>\n",
              "      <td>2.900000</td>\n",
              "      <td>1.129600</td>\n",
              "      <td>1.000000</td>\n",
              "      <td>12.600000</td>\n",
              "      <td>0.320000</td>\n",
              "      <td>5.000000</td>\n",
              "    </tr>\n",
              "    <tr>\n",
              "      <th>25%</th>\n",
              "      <td>0.082210</td>\n",
              "      <td>5.190000</td>\n",
              "      <td>0.449000</td>\n",
              "      <td>5.880000</td>\n",
              "      <td>45.075000</td>\n",
              "      <td>2.100700</td>\n",
              "      <td>4.000000</td>\n",
              "      <td>17.400000</td>\n",
              "      <td>375.330000</td>\n",
              "      <td>17.000000</td>\n",
              "    </tr>\n",
              "    <tr>\n",
              "      <th>50%</th>\n",
              "      <td>0.261690</td>\n",
              "      <td>9.690000</td>\n",
              "      <td>0.538000</td>\n",
              "      <td>6.202000</td>\n",
              "      <td>77.150000</td>\n",
              "      <td>3.182700</td>\n",
              "      <td>5.000000</td>\n",
              "      <td>19.100000</td>\n",
              "      <td>391.450000</td>\n",
              "      <td>21.200000</td>\n",
              "    </tr>\n",
              "    <tr>\n",
              "      <th>75%</th>\n",
              "      <td>3.693110</td>\n",
              "      <td>18.100000</td>\n",
              "      <td>0.624000</td>\n",
              "      <td>6.619000</td>\n",
              "      <td>94.100000</td>\n",
              "      <td>5.118000</td>\n",
              "      <td>24.000000</td>\n",
              "      <td>20.200000</td>\n",
              "      <td>396.240000</td>\n",
              "      <td>25.000000</td>\n",
              "    </tr>\n",
              "    <tr>\n",
              "      <th>max</th>\n",
              "      <td>88.976200</td>\n",
              "      <td>27.740000</td>\n",
              "      <td>0.871000</td>\n",
              "      <td>8.780000</td>\n",
              "      <td>100.000000</td>\n",
              "      <td>12.126500</td>\n",
              "      <td>24.000000</td>\n",
              "      <td>22.000000</td>\n",
              "      <td>396.900000</td>\n",
              "      <td>50.000000</td>\n",
              "    </tr>\n",
              "  </tbody>\n",
              "</table>\n",
              "</div>"
            ],
            "text/plain": [
              "             CRIM       INDUS         NOX          RM         AGE         DIS  \\\n",
              "count  509.000000  506.000000  507.000000  509.000000  508.000000  509.000000   \n",
              "mean     3.707516   11.198281    0.555216    6.279845   68.579134    3.787705   \n",
              "std      8.732089    6.856713    0.115633    0.703449   28.114744    2.101852   \n",
              "min      0.006320    0.460000    0.385000    3.561000    2.900000    1.129600   \n",
              "25%      0.082210    5.190000    0.449000    5.880000   45.075000    2.100700   \n",
              "50%      0.261690    9.690000    0.538000    6.202000   77.150000    3.182700   \n",
              "75%      3.693110   18.100000    0.624000    6.619000   94.100000    5.118000   \n",
              "max     88.976200   27.740000    0.871000    8.780000  100.000000   12.126500   \n",
              "\n",
              "              RAD     PTRATIO           B        MEDV  \n",
              "count  508.000000  509.000000  509.000000  509.000000  \n",
              "mean     9.610236   18.463851  356.664892   22.501572  \n",
              "std      8.735069    2.161553   91.562469    9.183497  \n",
              "min      1.000000   12.600000    0.320000    5.000000  \n",
              "25%      4.000000   17.400000  375.330000   17.000000  \n",
              "50%      5.000000   19.100000  391.450000   21.200000  \n",
              "75%     24.000000   20.200000  396.240000   25.000000  \n",
              "max     24.000000   22.000000  396.900000   50.000000  "
            ]
          },
          "execution_count": 31,
          "metadata": {},
          "output_type": "execute_result"
        }
      ],
      "source": [
        "df.describe()"
      ]
    },
    {
      "cell_type": "markdown",
      "metadata": {
        "id": "F9NOt3-Ip6H9"
      },
      "source": [
        "## **Data Cleaning**\n",
        "---"
      ]
    },
    {
      "cell_type": "markdown",
      "metadata": {
        "id": "aYwFL9TAp6H-"
      },
      "source": [
        "### Handle Missing Values"
      ]
    },
    {
      "cell_type": "code",
      "execution_count": 32,
      "metadata": {
        "colab": {
          "base_uri": "https://localhost:8080/"
        },
        "id": "UbxHz2oMp6IA",
        "outputId": "8c8cd05b-4776-4c33-c8eb-f889c720922d"
      },
      "outputs": [
        {
          "data": {
            "text/plain": [
              "CRIM       0\n",
              "INDUS      3\n",
              "NOX        2\n",
              "RM         0\n",
              "AGE        1\n",
              "DIS        0\n",
              "RAD        1\n",
              "PTRATIO    0\n",
              "B          0\n",
              "MEDV       0\n",
              "dtype: int64"
            ]
          },
          "execution_count": 32,
          "metadata": {},
          "output_type": "execute_result"
        }
      ],
      "source": [
        "variables = df.columns.tolist()\n",
        "\n",
        "def scan_missval(data):\n",
        "  return data[variables].isnull().sum()\n",
        "\n",
        "scan_missval(df)"
      ]
    },
    {
      "cell_type": "markdown",
      "metadata": {
        "id": "7GAi0YvHKxk8"
      },
      "source": [
        "__Interpretasi :__\n",
        "Dari pengecekan outlier diatas didapatkan bahwa 4 dari 10 variabel terdapat missing value. Seperti pada variabel INDUS sebanyak 3, NOX sebanyak 2, AGE sebanyak 1 dan RAD sebanyak 1."
      ]
    },
    {
      "cell_type": "code",
      "execution_count": 33,
      "metadata": {
        "colab": {
          "base_uri": "https://localhost:8080/"
        },
        "id": "mLbXUF3qp6IC",
        "outputId": "40edc455-5e8f-47a1-ac8e-a2508fec748a"
      },
      "outputs": [
        {
          "data": {
            "text/plain": [
              "CRIM       0\n",
              "INDUS      0\n",
              "NOX        0\n",
              "RM         0\n",
              "AGE        0\n",
              "DIS        0\n",
              "RAD        0\n",
              "PTRATIO    0\n",
              "B          0\n",
              "MEDV       0\n",
              "dtype: int64"
            ]
          },
          "execution_count": 33,
          "metadata": {},
          "output_type": "execute_result"
        }
      ],
      "source": [
        "# Replace missing values with median for each variables\n",
        "for var in variables:\n",
        "    df[var].fillna(df[var].median(), inplace=True)\n",
        "\n",
        "scan_missval(df)"
      ]
    },
    {
      "cell_type": "markdown",
      "metadata": {
        "id": "iqe7U27KLhC-"
      },
      "source": [
        "__Interpretasi :__\n",
        "Untuk mengatasi missing value tersebut kami menggunakan imputasi nilai dengan nilai median dari data. Kami menggunakan imputasi dengan nilai median karena Nilai median lebih tahan terhadap outlier dibandingkan dengan nilai rata-rata (mean). "
      ]
    },
    {
      "cell_type": "markdown",
      "metadata": {
        "id": "9LCc8I2jp6IE"
      },
      "source": [
        "### Handle Outlier"
      ]
    },
    {
      "cell_type": "code",
      "execution_count": 34,
      "metadata": {
        "colab": {
          "base_uri": "https://localhost:8080/",
          "height": 323
        },
        "id": "hwcuqBrTp6IF",
        "outputId": "95752fcc-bf1e-499c-e7c8-132cc22dc146"
      },
      "outputs": [
        {
          "data": {
            "image/png": "[encoded data removed]",
            "text/plain": [
              "<Figure size 2000x500 with 10 Axes>"
            ]
          },
          "metadata": {},
          "output_type": "display_data"
        }
      ],
      "source": [
        "def show_boxplots(data):\n",
        "    fig, axes = plt.subplots(nrows=1, ncols=len(df.columns), figsize=(20, 5))\n",
        "\n",
        "    for i, column in enumerate(data.columns):\n",
        "        data.boxplot(column=column, ax=axes[i], grid=False)\n",
        "        axes[i].set_title(column)\n",
        "        axes[i].set_ylabel('')\n",
        "\n",
        "    plt.tight_layout()\n",
        "    plt.show()\n",
        "\n",
        "show_boxplots(df)"
      ]
    },
    {
      "cell_type": "code",
      "execution_count": 66,
      "metadata": {},
      "outputs": [
        {
          "name": "stdout",
          "output_type": "stream",
          "text": [
            "Jumlah outlier pada tiap variabel dengan metode z-score:\n",
            "CRIM        9\n",
            "INDUS       0\n",
            "NOX         0\n",
            "RM          8\n",
            "AGE         0\n",
            "DIS         5\n",
            "RAD         0\n",
            "PTRATIO     0\n",
            "B          26\n",
            "MEDV        0\n",
            "dtype: int64\n"
          ]
        }
      ],
      "source": [
        "from scipy.stats import zscore\n",
        "\n",
        "z_scores = df.apply(zscore)\n",
        "threshold = 3 \n",
        "\n",
        "outliers_count = (np.abs(z_scores) > threshold).sum()\n",
        "\n",
        "print(\"Jumlah outlier pada tiap variabel dengan metode z-score:\")\n",
        "print(outliers_count)\n"
      ]
    },
    {
      "cell_type": "markdown",
      "metadata": {
        "id": "GwrqpwZbsGlU"
      },
      "source": [
        "__Interpretasi :__\n",
        "Dari perhitungan z score yang sudah dilakukan didapatkan bahwa terdapat 4 dari 10 variabel yang terdapat outlier. Seperti pada CRIM sebanyak 9, RM sebanyak 8, DIS sebanyak 5,dan B sebanyak 26."
      ]
    },
    {
      "cell_type": "code",
      "execution_count": 67,
      "metadata": {
        "colab": {
          "base_uri": "https://localhost:8080/"
        },
        "id": "_g_O-jun-WlJ",
        "outputId": "35f25bde-9703-4bab-c2d4-60427756a1b1"
      },
      "outputs": [
        {
          "data": {
            "text/html": [
              "<div>\n",
              "<style scoped>\n",
              "    .dataframe tbody tr th:only-of-type {\n",
              "        vertical-align: middle;\n",
              "    }\n",
              "\n",
              "    .dataframe tbody tr th {\n",
              "        vertical-align: top;\n",
              "    }\n",
              "\n",
              "    .dataframe thead th {\n",
              "        text-align: right;\n",
              "    }\n",
              "</style>\n",
              "<table border=\"1\" class=\"dataframe\">\n",
              "  <thead>\n",
              "    <tr style=\"text-align: right;\">\n",
              "      <th></th>\n",
              "      <th>CRIM</th>\n",
              "      <th>INDUS</th>\n",
              "      <th>NOX</th>\n",
              "      <th>RM</th>\n",
              "      <th>AGE</th>\n",
              "      <th>DIS</th>\n",
              "      <th>RAD</th>\n",
              "      <th>PTRATIO</th>\n",
              "      <th>B</th>\n",
              "      <th>MEDV</th>\n",
              "    </tr>\n",
              "  </thead>\n",
              "  <tbody>\n",
              "    <tr>\n",
              "      <th>0</th>\n",
              "      <td>0.00632</td>\n",
              "      <td>2.31</td>\n",
              "      <td>0.538</td>\n",
              "      <td>6.575</td>\n",
              "      <td>65.2</td>\n",
              "      <td>4.0900</td>\n",
              "      <td>1.0</td>\n",
              "      <td>15.3</td>\n",
              "      <td>396.90</td>\n",
              "      <td>24.0</td>\n",
              "    </tr>\n",
              "    <tr>\n",
              "      <th>1</th>\n",
              "      <td>0.02731</td>\n",
              "      <td>7.07</td>\n",
              "      <td>0.469</td>\n",
              "      <td>6.421</td>\n",
              "      <td>78.9</td>\n",
              "      <td>4.9671</td>\n",
              "      <td>2.0</td>\n",
              "      <td>17.8</td>\n",
              "      <td>396.90</td>\n",
              "      <td>21.6</td>\n",
              "    </tr>\n",
              "    <tr>\n",
              "      <th>2</th>\n",
              "      <td>0.02729</td>\n",
              "      <td>7.07</td>\n",
              "      <td>0.469</td>\n",
              "      <td>7.185</td>\n",
              "      <td>61.1</td>\n",
              "      <td>4.9671</td>\n",
              "      <td>2.0</td>\n",
              "      <td>17.8</td>\n",
              "      <td>392.83</td>\n",
              "      <td>34.7</td>\n",
              "    </tr>\n",
              "    <tr>\n",
              "      <th>3</th>\n",
              "      <td>0.03237</td>\n",
              "      <td>2.18</td>\n",
              "      <td>0.458</td>\n",
              "      <td>6.998</td>\n",
              "      <td>45.8</td>\n",
              "      <td>6.0622</td>\n",
              "      <td>3.0</td>\n",
              "      <td>18.7</td>\n",
              "      <td>394.63</td>\n",
              "      <td>33.4</td>\n",
              "    </tr>\n",
              "    <tr>\n",
              "      <th>4</th>\n",
              "      <td>0.06905</td>\n",
              "      <td>2.18</td>\n",
              "      <td>0.458</td>\n",
              "      <td>7.147</td>\n",
              "      <td>54.2</td>\n",
              "      <td>6.0622</td>\n",
              "      <td>3.0</td>\n",
              "      <td>18.7</td>\n",
              "      <td>396.90</td>\n",
              "      <td>36.2</td>\n",
              "    </tr>\n",
              "    <tr>\n",
              "      <th>...</th>\n",
              "      <td>...</td>\n",
              "      <td>...</td>\n",
              "      <td>...</td>\n",
              "      <td>...</td>\n",
              "      <td>...</td>\n",
              "      <td>...</td>\n",
              "      <td>...</td>\n",
              "      <td>...</td>\n",
              "      <td>...</td>\n",
              "      <td>...</td>\n",
              "    </tr>\n",
              "    <tr>\n",
              "      <th>504</th>\n",
              "      <td>0.06263</td>\n",
              "      <td>11.93</td>\n",
              "      <td>0.573</td>\n",
              "      <td>6.593</td>\n",
              "      <td>69.1</td>\n",
              "      <td>2.4786</td>\n",
              "      <td>1.0</td>\n",
              "      <td>21.0</td>\n",
              "      <td>391.99</td>\n",
              "      <td>22.4</td>\n",
              "    </tr>\n",
              "    <tr>\n",
              "      <th>505</th>\n",
              "      <td>0.04527</td>\n",
              "      <td>11.93</td>\n",
              "      <td>0.573</td>\n",
              "      <td>6.120</td>\n",
              "      <td>76.7</td>\n",
              "      <td>2.2875</td>\n",
              "      <td>1.0</td>\n",
              "      <td>21.0</td>\n",
              "      <td>396.90</td>\n",
              "      <td>20.6</td>\n",
              "    </tr>\n",
              "    <tr>\n",
              "      <th>506</th>\n",
              "      <td>0.06076</td>\n",
              "      <td>11.93</td>\n",
              "      <td>0.573</td>\n",
              "      <td>6.976</td>\n",
              "      <td>91.0</td>\n",
              "      <td>2.1675</td>\n",
              "      <td>1.0</td>\n",
              "      <td>21.0</td>\n",
              "      <td>396.90</td>\n",
              "      <td>23.9</td>\n",
              "    </tr>\n",
              "    <tr>\n",
              "      <th>507</th>\n",
              "      <td>0.10959</td>\n",
              "      <td>11.93</td>\n",
              "      <td>0.573</td>\n",
              "      <td>6.794</td>\n",
              "      <td>89.3</td>\n",
              "      <td>2.3889</td>\n",
              "      <td>1.0</td>\n",
              "      <td>21.0</td>\n",
              "      <td>393.45</td>\n",
              "      <td>22.0</td>\n",
              "    </tr>\n",
              "    <tr>\n",
              "      <th>508</th>\n",
              "      <td>0.04741</td>\n",
              "      <td>11.93</td>\n",
              "      <td>0.573</td>\n",
              "      <td>6.030</td>\n",
              "      <td>80.8</td>\n",
              "      <td>2.5050</td>\n",
              "      <td>1.0</td>\n",
              "      <td>21.0</td>\n",
              "      <td>396.90</td>\n",
              "      <td>11.9</td>\n",
              "    </tr>\n",
              "  </tbody>\n",
              "</table>\n",
              "<p>491 rows × 10 columns</p>\n",
              "</div>"
            ],
            "text/plain": [
              "        CRIM  INDUS    NOX     RM   AGE     DIS  RAD  PTRATIO       B  MEDV\n",
              "0    0.00632   2.31  0.538  6.575  65.2  4.0900  1.0     15.3  396.90  24.0\n",
              "1    0.02731   7.07  0.469  6.421  78.9  4.9671  2.0     17.8  396.90  21.6\n",
              "2    0.02729   7.07  0.469  7.185  61.1  4.9671  2.0     17.8  392.83  34.7\n",
              "3    0.03237   2.18  0.458  6.998  45.8  6.0622  3.0     18.7  394.63  33.4\n",
              "4    0.06905   2.18  0.458  7.147  54.2  6.0622  3.0     18.7  396.90  36.2\n",
              "..       ...    ...    ...    ...   ...     ...  ...      ...     ...   ...\n",
              "504  0.06263  11.93  0.573  6.593  69.1  2.4786  1.0     21.0  391.99  22.4\n",
              "505  0.04527  11.93  0.573  6.120  76.7  2.2875  1.0     21.0  396.90  20.6\n",
              "506  0.06076  11.93  0.573  6.976  91.0  2.1675  1.0     21.0  396.90  23.9\n",
              "507  0.10959  11.93  0.573  6.794  89.3  2.3889  1.0     21.0  393.45  22.0\n",
              "508  0.04741  11.93  0.573  6.030  80.8  2.5050  1.0     21.0  396.90  11.9\n",
              "\n",
              "[491 rows x 10 columns]"
            ]
          },
          "execution_count": 67,
          "metadata": {},
          "output_type": "execute_result"
        }
      ],
      "source": [
        "df_cleaned = df[(z_scores < threshold).all(axis=1)]\n",
        "\n",
        "df_cleaned"
      ]
    },
    {
      "cell_type": "markdown",
      "metadata": {
        "id": "5shJf4hbxNxz"
      },
      "source": [
        "__Interpretasi :__\n",
        "Setelah dilakukan pengecekan kami mengatasi outlier tersebut dengan menghapus outlier tersebut berdasarkan z score nya, dimana jika nilai z-score dari setiap fitur dalam baris tertentu semuanya kurang dari threshold, maka baris tersebut akan dimasukkan ke dalam df_cleaned."
      ]
    },
    {
      "cell_type": "markdown",
      "metadata": {
        "id": "cxoUFRKiuG3r"
      },
      "source": [
        "## **Data Transformation**\n",
        "---"
      ]
    },
    {
      "cell_type": "code",
      "execution_count": 68,
      "metadata": {
        "colab": {
          "base_uri": "https://localhost:8080/"
        },
        "id": "O89T3p-bHpvL",
        "outputId": "6d7a7a8b-f406-4912-ae09-9e59de2a66a2"
      },
      "outputs": [
        {
          "name": "stdout",
          "output_type": "stream",
          "text": [
            "Scaled DataFrame:\n",
            "         CRIM     INDUS       NOX        RM       AGE       DIS       RAD  \\\n",
            "0    0.000000  0.067815  0.314815  0.626091  0.641607  0.365784  0.000000   \n",
            "1    0.000733  0.242302  0.172840  0.594101  0.782698  0.474158  0.043478   \n",
            "2    0.000732  0.242302  0.172840  0.752804  0.599382  0.474158  0.043478   \n",
            "3    0.000909  0.063050  0.150206  0.713959  0.441813  0.609467  0.086957   \n",
            "4    0.002190  0.063050  0.150206  0.744911  0.528321  0.609467  0.086957   \n",
            "..        ...       ...       ...       ...       ...       ...       ...   \n",
            "486  0.001965  0.420455  0.386831  0.629830  0.681771  0.166681  0.000000   \n",
            "487  0.001360  0.420455  0.386831  0.531575  0.760041  0.143069  0.000000   \n",
            "488  0.001900  0.420455  0.386831  0.709389  0.907312  0.128242  0.000000   \n",
            "489  0.003605  0.420455  0.386831  0.671583  0.889804  0.155598  0.000000   \n",
            "490  0.001434  0.420455  0.386831  0.512879  0.802266  0.169943  0.000000   \n",
            "\n",
            "      PTRATIO         B      MEDV  \n",
            "0    0.313953  1.000000  0.414414  \n",
            "1    0.604651  1.000000  0.360360  \n",
            "2    0.604651  0.989737  0.655405  \n",
            "3    0.709302  0.994276  0.626126  \n",
            "4    0.709302  1.000000  0.689189  \n",
            "..        ...       ...       ...  \n",
            "486  0.976744  0.987619  0.378378  \n",
            "487  0.976744  1.000000  0.337838  \n",
            "488  0.976744  1.000000  0.412162  \n",
            "489  0.976744  0.991301  0.369369  \n",
            "490  0.976744  1.000000  0.141892  \n",
            "\n",
            "[491 rows x 10 columns]\n"
          ]
        }
      ],
      "source": [
        "from sklearn.preprocessing import MinMaxScaler\n",
        "\n",
        "scaler = MinMaxScaler()\n",
        "\n",
        "df_scaled = scaler.fit_transform(df_cleaned)\n",
        "df_scaled = pd.DataFrame(df_scaled, columns=df.columns)\n",
        "\n",
        "print(\"Scaled DataFrame:\")\n",
        "print(df_scaled)"
      ]
    },
    {
      "cell_type": "markdown",
      "metadata": {},
      "source": [
        "__Interpretasi :__\n",
        "Dalam proses data transformasi ini, kami meggunakan metode min-max. Metode Min-Max Scaler sendiri melakukan normalisasi data ke dalam rentang tertentu, misalnya antara 0 dan 1. Ini mempertahankan interpretasi relatif dari nilai-nilai dalam dataset, karena nilai-nilai tetap dalam rentang yang sama, hanya skala yang berubah."
      ]
    },
    {
      "cell_type": "markdown",
      "metadata": {
        "id": "tf_D6eNTuMVp"
      },
      "source": [
        "## **Data Reduction**\n",
        "---"
      ]
    },
    {
      "cell_type": "code",
      "execution_count": 59,
      "metadata": {
        "colab": {
          "base_uri": "https://localhost:8080/"
        },
        "id": "TDXlwWZUjEul",
        "outputId": "4bac2700-1da0-48ca-ac65-4465684821ba"
      },
      "outputs": [
        {
          "name": "stdout",
          "output_type": "stream",
          "text": [
            "        Explained Var. Ratio Cumulative Var. Ratio\n",
            "   CRIM             0.554072              0.554072\n",
            "  INDUS             0.135195              0.689267\n",
            "    NOX             0.094688              0.783955\n",
            "     RM             0.066353              0.850308\n",
            "    AGE             0.047023              0.897330\n",
            "    DIS             0.039131              0.936462\n",
            "    RAD             0.023061              0.959523\n",
            "PTRATIO             0.017863              0.977386\n",
            "      B             0.012379              0.989765\n",
            "   MEDV             0.010235              1.000000\n"
          ]
        }
      ],
      "source": [
        "from sklearn.decomposition import PCA\n",
        "\n",
        "pca = PCA()\n",
        "df_pca = pca.fit_transform(df_scaled)\n",
        "\n",
        "df_pca = pd.DataFrame(df_pca, columns=[f'PC{i+1}' for i in range(df_pca.shape[1])])\n",
        "\n",
        "explained_vr = pca.explained_variance_ratio_\n",
        "cumulative_vr = explained_vr.cumsum()\n",
        "\n",
        "var_ratio = pd.DataFrame({'': variables, 'Explained Var. Ratio': explained_vr, 'Cumulative Var. Ratio': cumulative_vr})\n",
        "print(var_ratio.to_string(index=False, formatters={'Explained Var. Ratio': '{:.6f}'.format, 'Cumulative Var. Ratio': '{:.6f}'.format}))"
      ]
    },
    {
      "cell_type": "code",
      "execution_count": 60,
      "metadata": {
        "colab": {
          "base_uri": "https://localhost:8080/",
          "height": 206
        },
        "id": "viF0vCal-hJO",
        "outputId": "15f3c526-51c8-40b3-fc22-2b96db42aebe"
      },
      "outputs": [
        {
          "data": {
            "text/html": [
              "<div>\n",
              "<style scoped>\n",
              "    .dataframe tbody tr th:only-of-type {\n",
              "        vertical-align: middle;\n",
              "    }\n",
              "\n",
              "    .dataframe tbody tr th {\n",
              "        vertical-align: top;\n",
              "    }\n",
              "\n",
              "    .dataframe thead th {\n",
              "        text-align: right;\n",
              "    }\n",
              "</style>\n",
              "<table border=\"1\" class=\"dataframe\">\n",
              "  <thead>\n",
              "    <tr style=\"text-align: right;\">\n",
              "      <th></th>\n",
              "      <th></th>\n",
              "      <th>Explained Var. Ratio</th>\n",
              "      <th>Cumulative Var. Ratio</th>\n",
              "    </tr>\n",
              "  </thead>\n",
              "  <tbody>\n",
              "    <tr>\n",
              "      <th>0</th>\n",
              "      <td>CRIM</td>\n",
              "      <td>0.554072</td>\n",
              "      <td>0.554072</td>\n",
              "    </tr>\n",
              "    <tr>\n",
              "      <th>1</th>\n",
              "      <td>INDUS</td>\n",
              "      <td>0.135195</td>\n",
              "      <td>0.689267</td>\n",
              "    </tr>\n",
              "    <tr>\n",
              "      <th>2</th>\n",
              "      <td>NOX</td>\n",
              "      <td>0.094688</td>\n",
              "      <td>0.783955</td>\n",
              "    </tr>\n",
              "    <tr>\n",
              "      <th>3</th>\n",
              "      <td>RM</td>\n",
              "      <td>0.066353</td>\n",
              "      <td>0.850308</td>\n",
              "    </tr>\n",
              "    <tr>\n",
              "      <th>4</th>\n",
              "      <td>AGE</td>\n",
              "      <td>0.047023</td>\n",
              "      <td>0.897330</td>\n",
              "    </tr>\n",
              "    <tr>\n",
              "      <th>5</th>\n",
              "      <td>DIS</td>\n",
              "      <td>0.039131</td>\n",
              "      <td>0.936462</td>\n",
              "    </tr>\n",
              "    <tr>\n",
              "      <th>6</th>\n",
              "      <td>RAD</td>\n",
              "      <td>0.023061</td>\n",
              "      <td>0.959523</td>\n",
              "    </tr>\n",
              "  </tbody>\n",
              "</table>\n",
              "</div>"
            ],
            "text/plain": [
              "          Explained Var. Ratio  Cumulative Var. Ratio\n",
              "0   CRIM              0.554072               0.554072\n",
              "1  INDUS              0.135195               0.689267\n",
              "2    NOX              0.094688               0.783955\n",
              "3     RM              0.066353               0.850308\n",
              "4    AGE              0.047023               0.897330\n",
              "5    DIS              0.039131               0.936462\n",
              "6    RAD              0.023061               0.959523"
            ]
          },
          "execution_count": 60,
          "metadata": {},
          "output_type": "execute_result"
        }
      ],
      "source": [
        "var_ratio = var_ratio.iloc[:-3]\n",
        "var_ratio"
      ]
    },
    {
      "cell_type": "markdown",
      "metadata": {
        "id": "aHJ1AxoT7vWD"
      },
      "source": [
        "__Interpretasi :__\n",
        "Setelah dilakukan PCA didapatkan bahwa nilai Explained Variance Ratio dari variabel CRIM sebesar 0.55, yang berarti bahwa komponen utama pertama mampu menjelaskan sekitar 55% variasi tingkat kejahatan per kapita menurut kota.\n",
        "\n",
        "Selain itu, 95% cumulative variance ratio sudah bisa didapatkan tanpa adanya atribut PTRATIO, B, dan MEDV."
      ]
    }
  ],
  "metadata": {
    "colab": {
      "provenance": []
    },
    "kernelspec": {
      "display_name": "Python 3",
      "language": "python",
      "name": "python3"
    },
    "language_info": {
      "codemirror_mode": {
        "name": "ipython",
        "version": 3
      },
      "file_extension": ".py",
      "mimetype": "text/x-python",
      "name": "python",
      "nbconvert_exporter": "python",
      "pygments_lexer": "ipython3",
      "version": "3.12.0"
    }
  },
  "nbformat": 4,
  "nbformat_minor": 0
}
